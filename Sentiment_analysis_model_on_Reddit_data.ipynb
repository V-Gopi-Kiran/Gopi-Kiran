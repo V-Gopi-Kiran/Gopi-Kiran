{
  "cells": [
    {
      "cell_type": "markdown",
      "metadata": {
        "id": "view-in-github",
        "colab_type": "text"
      },
      "source": [
        "<a href=\"https://colab.research.google.com/github/V-Gopi-Kiran/Gopi-Kiran/blob/main/Sentiment_analysis_model_on_Reddit_data.ipynb\" target=\"_parent\"><img src=\"https://colab.research.google.com/assets/colab-badge.svg\" alt=\"Open In Colab\"/></a>"
      ]
    },
    {
      "cell_type": "markdown",
      "metadata": {
        "id": "knObm8WHiCBK"
      },
      "source": [
        "##Importing the necessary modules, and reading the dataset"
      ]
    },
    {
      "cell_type": "code",
      "execution_count": 1,
      "metadata": {
        "id": "Z2Z2Z13gh4rX"
      },
      "outputs": [],
      "source": [
        "import pandas as pd\n",
        "import numpy as np\n",
        "import seaborn as sns\n",
        "import matplotlib.pyplot as plt"
      ]
    },
    {
      "cell_type": "code",
      "execution_count": 2,
      "metadata": {
        "id": "KfO-jIo5iP5j"
      },
      "outputs": [],
      "source": [
        "import tensorflow\n",
        "from tensorflow.keras.models import Sequential \n",
        "from tensorflow.keras.preprocessing.text import Tokenizer\n",
        "from tensorflow.keras.preprocessing.sequence import pad_sequences\n",
        "from tensorflow.keras.layers import Embedding,Bidirectional,LSTM,Dense,Dropout\n",
        "from tensorflow.keras.utils import to_categorical"
      ]
    },
    {
      "cell_type": "code",
      "execution_count": 3,
      "metadata": {
        "colab": {
          "base_uri": "https://localhost:8080/",
          "height": 520
        },
        "id": "YdqwcDGcicgz",
        "outputId": "d0db0ae4-bcd1-4d7a-9b83-44caf1693d46"
      },
      "outputs": [
        {
          "output_type": "execute_result",
          "data": {
            "text/plain": [
              "                                        clean_comment  category\n",
              "0    family mormon have never tried explain them t...         1\n",
              "1   buddhism has very much lot compatible with chr...         1\n",
              "2   seriously don say thing first all they won get...        -1\n",
              "3   what you have learned yours and only yours wha...         0\n",
              "4   for your own benefit you may want read living ...         1\n",
              "5   you should all sit down together and watch the...        -1\n",
              "6    was teens when discovered zen meditation was ...         1\n",
              "7                            jesus was zen meets jew          0\n",
              "8   there are two varieties christians dogmatic th...        -1\n",
              "9   dont worry about trying explain yourself just ...         1\n",
              "10   recently told family that buddhist live the b...         1\n",
              "11   unto others you would have them unto you woul...         1\n",
              "12  first understand that you are not anyway contr...         1\n",
              "13   recently heard similar question where person ...         1\n",
              "14  different times different cultures same point ...         1"
            ],
            "text/html": [
              "\n",
              "  <div id=\"df-2a5aa7e3-dd62-4319-ac23-3aa4f3cc1464\">\n",
              "    <div class=\"colab-df-container\">\n",
              "      <div>\n",
              "<style scoped>\n",
              "    .dataframe tbody tr th:only-of-type {\n",
              "        vertical-align: middle;\n",
              "    }\n",
              "\n",
              "    .dataframe tbody tr th {\n",
              "        vertical-align: top;\n",
              "    }\n",
              "\n",
              "    .dataframe thead th {\n",
              "        text-align: right;\n",
              "    }\n",
              "</style>\n",
              "<table border=\"1\" class=\"dataframe\">\n",
              "  <thead>\n",
              "    <tr style=\"text-align: right;\">\n",
              "      <th></th>\n",
              "      <th>clean_comment</th>\n",
              "      <th>category</th>\n",
              "    </tr>\n",
              "  </thead>\n",
              "  <tbody>\n",
              "    <tr>\n",
              "      <th>0</th>\n",
              "      <td>family mormon have never tried explain them t...</td>\n",
              "      <td>1</td>\n",
              "    </tr>\n",
              "    <tr>\n",
              "      <th>1</th>\n",
              "      <td>buddhism has very much lot compatible with chr...</td>\n",
              "      <td>1</td>\n",
              "    </tr>\n",
              "    <tr>\n",
              "      <th>2</th>\n",
              "      <td>seriously don say thing first all they won get...</td>\n",
              "      <td>-1</td>\n",
              "    </tr>\n",
              "    <tr>\n",
              "      <th>3</th>\n",
              "      <td>what you have learned yours and only yours wha...</td>\n",
              "      <td>0</td>\n",
              "    </tr>\n",
              "    <tr>\n",
              "      <th>4</th>\n",
              "      <td>for your own benefit you may want read living ...</td>\n",
              "      <td>1</td>\n",
              "    </tr>\n",
              "    <tr>\n",
              "      <th>5</th>\n",
              "      <td>you should all sit down together and watch the...</td>\n",
              "      <td>-1</td>\n",
              "    </tr>\n",
              "    <tr>\n",
              "      <th>6</th>\n",
              "      <td>was teens when discovered zen meditation was ...</td>\n",
              "      <td>1</td>\n",
              "    </tr>\n",
              "    <tr>\n",
              "      <th>7</th>\n",
              "      <td>jesus was zen meets jew</td>\n",
              "      <td>0</td>\n",
              "    </tr>\n",
              "    <tr>\n",
              "      <th>8</th>\n",
              "      <td>there are two varieties christians dogmatic th...</td>\n",
              "      <td>-1</td>\n",
              "    </tr>\n",
              "    <tr>\n",
              "      <th>9</th>\n",
              "      <td>dont worry about trying explain yourself just ...</td>\n",
              "      <td>1</td>\n",
              "    </tr>\n",
              "    <tr>\n",
              "      <th>10</th>\n",
              "      <td>recently told family that buddhist live the b...</td>\n",
              "      <td>1</td>\n",
              "    </tr>\n",
              "    <tr>\n",
              "      <th>11</th>\n",
              "      <td>unto others you would have them unto you woul...</td>\n",
              "      <td>1</td>\n",
              "    </tr>\n",
              "    <tr>\n",
              "      <th>12</th>\n",
              "      <td>first understand that you are not anyway contr...</td>\n",
              "      <td>1</td>\n",
              "    </tr>\n",
              "    <tr>\n",
              "      <th>13</th>\n",
              "      <td>recently heard similar question where person ...</td>\n",
              "      <td>1</td>\n",
              "    </tr>\n",
              "    <tr>\n",
              "      <th>14</th>\n",
              "      <td>different times different cultures same point ...</td>\n",
              "      <td>1</td>\n",
              "    </tr>\n",
              "  </tbody>\n",
              "</table>\n",
              "</div>\n",
              "      <button class=\"colab-df-convert\" onclick=\"convertToInteractive('df-2a5aa7e3-dd62-4319-ac23-3aa4f3cc1464')\"\n",
              "              title=\"Convert this dataframe to an interactive table.\"\n",
              "              style=\"display:none;\">\n",
              "        \n",
              "  <svg xmlns=\"http://www.w3.org/2000/svg\" height=\"24px\"viewBox=\"0 0 24 24\"\n",
              "       width=\"24px\">\n",
              "    <path d=\"M0 0h24v24H0V0z\" fill=\"none\"/>\n",
              "    <path d=\"M18.56 5.44l.94 2.06.94-2.06 2.06-.94-2.06-.94-.94-2.06-.94 2.06-2.06.94zm-11 1L8.5 8.5l.94-2.06 2.06-.94-2.06-.94L8.5 2.5l-.94 2.06-2.06.94zm10 10l.94 2.06.94-2.06 2.06-.94-2.06-.94-.94-2.06-.94 2.06-2.06.94z\"/><path d=\"M17.41 7.96l-1.37-1.37c-.4-.4-.92-.59-1.43-.59-.52 0-1.04.2-1.43.59L10.3 9.45l-7.72 7.72c-.78.78-.78 2.05 0 2.83L4 21.41c.39.39.9.59 1.41.59.51 0 1.02-.2 1.41-.59l7.78-7.78 2.81-2.81c.8-.78.8-2.07 0-2.86zM5.41 20L4 18.59l7.72-7.72 1.47 1.35L5.41 20z\"/>\n",
              "  </svg>\n",
              "      </button>\n",
              "      \n",
              "  <style>\n",
              "    .colab-df-container {\n",
              "      display:flex;\n",
              "      flex-wrap:wrap;\n",
              "      gap: 12px;\n",
              "    }\n",
              "\n",
              "    .colab-df-convert {\n",
              "      background-color: #E8F0FE;\n",
              "      border: none;\n",
              "      border-radius: 50%;\n",
              "      cursor: pointer;\n",
              "      display: none;\n",
              "      fill: #1967D2;\n",
              "      height: 32px;\n",
              "      padding: 0 0 0 0;\n",
              "      width: 32px;\n",
              "    }\n",
              "\n",
              "    .colab-df-convert:hover {\n",
              "      background-color: #E2EBFA;\n",
              "      box-shadow: 0px 1px 2px rgba(60, 64, 67, 0.3), 0px 1px 3px 1px rgba(60, 64, 67, 0.15);\n",
              "      fill: #174EA6;\n",
              "    }\n",
              "\n",
              "    [theme=dark] .colab-df-convert {\n",
              "      background-color: #3B4455;\n",
              "      fill: #D2E3FC;\n",
              "    }\n",
              "\n",
              "    [theme=dark] .colab-df-convert:hover {\n",
              "      background-color: #434B5C;\n",
              "      box-shadow: 0px 1px 3px 1px rgba(0, 0, 0, 0.15);\n",
              "      filter: drop-shadow(0px 1px 2px rgba(0, 0, 0, 0.3));\n",
              "      fill: #FFFFFF;\n",
              "    }\n",
              "  </style>\n",
              "\n",
              "      <script>\n",
              "        const buttonEl =\n",
              "          document.querySelector('#df-2a5aa7e3-dd62-4319-ac23-3aa4f3cc1464 button.colab-df-convert');\n",
              "        buttonEl.style.display =\n",
              "          google.colab.kernel.accessAllowed ? 'block' : 'none';\n",
              "\n",
              "        async function convertToInteractive(key) {\n",
              "          const element = document.querySelector('#df-2a5aa7e3-dd62-4319-ac23-3aa4f3cc1464');\n",
              "          const dataTable =\n",
              "            await google.colab.kernel.invokeFunction('convertToInteractive',\n",
              "                                                     [key], {});\n",
              "          if (!dataTable) return;\n",
              "\n",
              "          const docLinkHtml = 'Like what you see? Visit the ' +\n",
              "            '<a target=\"_blank\" href=https://colab.research.google.com/notebooks/data_table.ipynb>data table notebook</a>'\n",
              "            + ' to learn more about interactive tables.';\n",
              "          element.innerHTML = '';\n",
              "          dataTable['output_type'] = 'display_data';\n",
              "          await google.colab.output.renderOutput(dataTable, element);\n",
              "          const docLink = document.createElement('div');\n",
              "          docLink.innerHTML = docLinkHtml;\n",
              "          element.appendChild(docLink);\n",
              "        }\n",
              "      </script>\n",
              "    </div>\n",
              "  </div>\n",
              "  "
            ]
          },
          "metadata": {},
          "execution_count": 3
        }
      ],
      "source": [
        "df=pd.read_csv('/content/Reddit_Data.csv')\n",
        "df.head(15)"
      ]
    },
    {
      "cell_type": "markdown",
      "metadata": {
        "id": "4Xit7NQXjINO"
      },
      "source": [
        "##Performing EDA (Exploratory Data Analysis)"
      ]
    },
    {
      "cell_type": "code",
      "execution_count": 4,
      "metadata": {
        "colab": {
          "base_uri": "https://localhost:8080/"
        },
        "id": "k8b_mHpejL83",
        "outputId": "3234883d-9b25-4bc6-968c-34f2f76e09ce"
      },
      "outputs": [
        {
          "output_type": "stream",
          "name": "stdout",
          "text": [
            "[8277, 13142, 15830]\n"
          ]
        }
      ],
      "source": [
        "dist=list(df.category)\n",
        "pp=[0,0,0]\n",
        "for i in dist:\n",
        "    if i==-1:\n",
        "        pp[0]+=1\n",
        "    elif i==0:\n",
        "        pp[1]+=1\n",
        "    else:\n",
        "        pp[2]+=1\n",
        "print(pp)"
      ]
    },
    {
      "cell_type": "code",
      "execution_count": 5,
      "metadata": {
        "colab": {
          "base_uri": "https://localhost:8080/",
          "height": 265
        },
        "id": "TmQ_F1-YjMd_",
        "outputId": "81068dff-2303-4289-ee60-5893a2bd3126"
      },
      "outputs": [
        {
          "output_type": "display_data",
          "data": {
            "text/plain": [
              "<Figure size 432x288 with 1 Axes>"
            ],
            "image/png": "[encoded data removed]"
          },
          "metadata": {
            "needs_background": "light"
          }
        }
      ],
      "source": [
        "labels=['Negative','Neutral','Positive']\n",
        "sns.barplot(x=labels,y=pp)\n",
        "plt.show()"
      ]
    },
    {
      "cell_type": "code",
      "execution_count": 6,
      "metadata": {
        "id": "50GMJfOijUvK"
      },
      "outputs": [],
      "source": [
        "comment=list(df.clean_comment.astype(str))\n",
        "sentiment=list(df.category)\n",
        "reddit_dict=dict(zip(comment,sentiment))"
      ]
    },
    {
      "cell_type": "code",
      "execution_count": 7,
      "metadata": {
        "colab": {
          "base_uri": "https://localhost:8080/"
        },
        "id": "13WUITGujXTg",
        "outputId": "cf5e1913-e6b3-4fe2-8c8d-d1c8ac8c2464"
      },
      "outputs": [
        {
          "output_type": "stream",
          "name": "stdout",
          "text": [
            "[(' family mormon have never tried explain them they still stare puzzled from time time like some kind strange creature nonetheless they have come admire for the patience calmness equanimity acceptance and compassion have developed all the things buddhism teaches ', 1), ('buddhism has very much lot compatible with christianity especially considering that sin and suffering are almost the same thing suffering caused wanting things shouldn want going about getting things the wrong way christian this would mean wanting things that don coincide with god will and wanting things that coincide but without the aid jesus buddhism could also seen proof god all mighty will and omnipotence certainly christians are lucky have one such christ there side but what about everyone else well many christians believe god grace salvation and buddhism god way showing grace upon others would also help study the things jesus said and see how buddha has made similar claims such rich man getting into heaven joke basically advocating that should rid ourselves material possessions fact distinctly remembered jesus making someone cry because that someone asked what achieve salvation and jesus replied with live like buddhist very very roughly translated also point out that buddha rarely spoke anything about god theory personally because knew well enough leave that jesus and mohamed who came later just remember conflict difference opinion but education can fun involving and enlightening easier teach something than prove right like intelligent design ', 1), ('seriously don say thing first all they won get its too complex explain normal people anyway and they are dogmatic then doesn matter what you say see mechante post and for any reason you decide later life move from buddhism and that doesn suit you identity though you still get keep all the wisdom then your family will treat you like you went through weird hippy phase for while there didncha and you never hear the end pro tip don put one these your wall jpg ', -1), ('what you have learned yours and only yours what you want teach different focus the goal not the wrapping paper buddhism can passed others without word about the buddha ', 0), ('for your own benefit you may want read living buddha living christ thich nhat hanh you might find any subsequent discussions with your loved ones easier you are able articulate some the parallels that exist between buddhism and christianity don surprised they react negatively for having lost you treat them with compassion and deserved understanding although they may indeed display signs being hurt your new path properly sharing with them way that may alleviate their fear something they may perceive wrong the very least alien their beliefs may help allowing them the long run accept although not necessarily agree with your decision regardless where they end you have make your own way ', 1)]\n"
          ]
        }
      ],
      "source": [
        "print(list(reddit_dict.items())[:5])"
      ]
    },
    {
      "cell_type": "code",
      "execution_count": 8,
      "metadata": {
        "id": "r5BBD-lijb0d"
      },
      "outputs": [],
      "source": [
        "Neg_list=[]\n",
        "Pos_list=[]\n",
        "Neutral_list=[]\n",
        "for i,j in reddit_dict.items():\n",
        "    if j==-1:\n",
        "        Neg_list.append(i)\n",
        "    elif j==0:\n",
        "        Neutral_list.append(i)\n",
        "    else:\n",
        "        Pos_list.append(i)    "
      ]
    },
    {
      "cell_type": "code",
      "execution_count": 9,
      "metadata": {
        "colab": {
          "base_uri": "https://localhost:8080/"
        },
        "id": "RAFfk30-jfW3",
        "outputId": "b3df8a17-35ea-4454-acd4-c71078d278d1"
      },
      "outputs": [
        {
          "output_type": "stream",
          "name": "stdout",
          "text": [
            "['seriously don say thing first all they won get its too complex explain normal people anyway and they are dogmatic then doesn matter what you say see mechante post and for any reason you decide later life move from buddhism and that doesn suit you identity though you still get keep all the wisdom then your family will treat you like you went through weird hippy phase for while there didncha and you never hear the end pro tip don put one these your wall jpg ', 'you should all sit down together and watch the simpsons episode where lisa becomes buddhist simpsons season episode she little faith then discuss '] \n",
            " ['what you have learned yours and only yours what you want teach different focus the goal not the wrapping paper buddhism can passed others without word about the buddha ', 'jesus was zen meets jew '] \n",
            " [' family mormon have never tried explain them they still stare puzzled from time time like some kind strange creature nonetheless they have come admire for the patience calmness equanimity acceptance and compassion have developed all the things buddhism teaches ', 'buddhism has very much lot compatible with christianity especially considering that sin and suffering are almost the same thing suffering caused wanting things shouldn want going about getting things the wrong way christian this would mean wanting things that don coincide with god will and wanting things that coincide but without the aid jesus buddhism could also seen proof god all mighty will and omnipotence certainly christians are lucky have one such christ there side but what about everyone else well many christians believe god grace salvation and buddhism god way showing grace upon others would also help study the things jesus said and see how buddha has made similar claims such rich man getting into heaven joke basically advocating that should rid ourselves material possessions fact distinctly remembered jesus making someone cry because that someone asked what achieve salvation and jesus replied with live like buddhist very very roughly translated also point out that buddha rarely spoke anything about god theory personally because knew well enough leave that jesus and mohamed who came later just remember conflict difference opinion but education can fun involving and enlightening easier teach something than prove right like intelligent design ']\n"
          ]
        }
      ],
      "source": [
        "print(Neg_list[:2],'\\n',Neutral_list[:2],'\\n',Pos_list[:2])"
      ]
    },
    {
      "cell_type": "code",
      "execution_count": 10,
      "metadata": {
        "id": "La_80nd5jpWy"
      },
      "outputs": [],
      "source": [
        "pos_len=[]\n",
        "for i in Pos_list:\n",
        "    pos_len.append(len(i))"
      ]
    },
    {
      "cell_type": "code",
      "execution_count": 11,
      "metadata": {
        "id": "aqDm_uhAjqIY"
      },
      "outputs": [],
      "source": [
        "neg_len=[]\n",
        "for i in Neg_list:\n",
        "    neg_len.append(len(i))"
      ]
    },
    {
      "cell_type": "code",
      "execution_count": 12,
      "metadata": {
        "id": "tadMf0JEjtqt"
      },
      "outputs": [],
      "source": [
        "Neutral_len=[]\n",
        "for i in Neutral_list:\n",
        "    Neutral_len.append(len(i))"
      ]
    },
    {
      "cell_type": "code",
      "execution_count": 13,
      "metadata": {
        "colab": {
          "base_uri": "https://localhost:8080/",
          "height": 336
        },
        "id": "qh_mbac3kqNQ",
        "outputId": "e53b145a-7631-4bf2-9299-f9be03294dbc"
      },
      "outputs": [
        {
          "output_type": "display_data",
          "data": {
            "text/plain": [
              "<Figure size 1728x360 with 1 Axes>"
            ],
            "image/png": "[encoded data removed]"
          },
          "metadata": {
            "needs_background": "light"
          }
        }
      ],
      "source": [
        "plt.subplots(figsize=(24,5))\n",
        "plt.title(\"Word Length Variation\")\n",
        "plt.plot(Neutral_len[:250],c='b',label='Neutral')\n",
        "plt.plot(neg_len[:250],c='r',label='Negative')\n",
        "plt.plot(pos_len[:250],c='g',label='Positive')\n",
        "plt.legend(loc='upper left')\n",
        "plt.show()"
      ]
    },
    {
      "cell_type": "code",
      "execution_count": 14,
      "metadata": {
        "id": "hwM5jcT2k9De"
      },
      "outputs": [],
      "source": [
        "pos_mean=sum(pos_len)//len(pos_len)\n",
        "neg_mean=sum(neg_len)//len(neg_len)\n",
        "neutral_mean=sum(Neutral_len)//len(Neutral_len)\n",
        "combined_mean=(sum(pos_len)+sum(neg_len)+sum(Neutral_len))//(len(pos_len)+len(neg_len)+len(Neutral_len))"
      ]
    },
    {
      "cell_type": "code",
      "execution_count": 15,
      "metadata": {
        "colab": {
          "base_uri": "https://localhost:8080/",
          "height": 281
        },
        "id": "aUkAw0Abk__e",
        "outputId": "ad6e7052-e3a2-44ec-8c18-e0eada16862a"
      },
      "outputs": [
        {
          "output_type": "display_data",
          "data": {
            "text/plain": [
              "<Figure size 432x288 with 1 Axes>"
            ],
            "image/png": "[encoded data removed]"
          },
          "metadata": {
            "needs_background": "light"
          }
        }
      ],
      "source": [
        "plt.title(\"Average Word Length\")\n",
        "sns.barplot(x=['Negative','Neutral','Positive','Combined'],y=[neg_mean,neutral_mean,pos_mean,combined_mean])\n",
        "plt.show()"
      ]
    },
    {
      "cell_type": "markdown",
      "metadata": {
        "id": "8mLyo2HVlbD6"
      },
      "source": [
        "##Tokenization"
      ]
    },
    {
      "cell_type": "code",
      "execution_count": 16,
      "metadata": {
        "colab": {
          "base_uri": "https://localhost:8080/"
        },
        "id": "Fky1OSgtldGz",
        "outputId": "ef6cc0c0-0ce3-4cd6-e096-4b387f2f9e5b"
      },
      "outputs": [
        {
          "output_type": "execute_result",
          "data": {
            "text/plain": [
              "0     family mormon have never tried explain them t...\n",
              "1    buddhism has very much lot compatible with chr...\n",
              "2    seriously don say thing first all they won get...\n",
              "3    what you have learned yours and only yours wha...\n",
              "4    for your own benefit you may want read living ...\n",
              "Name: clean_comment, dtype: object"
            ]
          },
          "metadata": {},
          "execution_count": 16
        }
      ],
      "source": [
        "X=df['clean_comment'].astype('str')\n",
        "X[:5]"
      ]
    },
    {
      "cell_type": "code",
      "execution_count": 17,
      "metadata": {
        "colab": {
          "base_uri": "https://localhost:8080/"
        },
        "id": "j3BCjSSrlhjl",
        "outputId": "c65c7b71-2e18-45ea-db64-1a40906176fb"
      },
      "outputs": [
        {
          "output_type": "stream",
          "name": "stdout",
          "text": [
            " family mormon have never tried explain them they still stare puzzled from time time like some kind \n"
          ]
        }
      ],
      "source": [
        "lp=\"\"\n",
        "for i in X:\n",
        "    lp+=i+\" \"\n",
        "print(lp[:100])"
      ]
    },
    {
      "cell_type": "code",
      "execution_count": 18,
      "metadata": {
        "id": "-VKBIcZvlj5H"
      },
      "outputs": [],
      "source": [
        "st=lp.split(' ')\n",
        "dict_len=len(set(st))"
      ]
    },
    {
      "cell_type": "code",
      "execution_count": 19,
      "metadata": {
        "colab": {
          "base_uri": "https://localhost:8080/"
        },
        "id": "RBDow6C5lmww",
        "outputId": "4f273309-68a6-44ba-eebb-10254c27cd42"
      },
      "outputs": [
        {
          "output_type": "execute_result",
          "data": {
            "text/plain": [
              "(55543, 1134781)"
            ]
          },
          "metadata": {},
          "execution_count": 19
        }
      ],
      "source": [
        "dict_len,len(st)"
      ]
    },
    {
      "cell_type": "code",
      "execution_count": 20,
      "metadata": {
        "id": "QTs3UhEulpWH"
      },
      "outputs": [],
      "source": [
        "tokenizer=Tokenizer(num_words=dict_len,lower=True,oov_token=\"OOV\")\n",
        "tokenizer.fit_on_texts(X)"
      ]
    },
    {
      "cell_type": "code",
      "execution_count": 21,
      "metadata": {
        "colab": {
          "base_uri": "https://localhost:8080/"
        },
        "id": "Qx9krK6Zlr5E",
        "outputId": "e71bf691-0821-452e-f434-2b395861b5ef"
      },
      "outputs": [
        {
          "output_type": "execute_result",
          "data": {
            "text/plain": [
              "54720"
            ]
          },
          "metadata": {},
          "execution_count": 21
        }
      ],
      "source": [
        "len(tokenizer.word_index)"
      ]
    },
    {
      "cell_type": "code",
      "execution_count": 22,
      "metadata": {
        "id": "KoFrvpx5lu__"
      },
      "outputs": [],
      "source": [
        "X_train=tokenizer.texts_to_sequences(X)\n",
        "X_train_padded=pad_sequences(X_train,maxlen=175,padding='post',truncating='post')"
      ]
    },
    {
      "cell_type": "markdown",
      "metadata": {
        "id": "ZzRgxvL5l9DA"
      },
      "source": [
        "##One hot encoding the sentiment values"
      ]
    },
    {
      "cell_type": "code",
      "execution_count": 23,
      "metadata": {
        "colab": {
          "base_uri": "https://localhost:8080/"
        },
        "id": "NsSGf7pamCDG",
        "outputId": "70471dc5-a65e-4e24-b06f-9df5a0fb23a4"
      },
      "outputs": [
        {
          "output_type": "stream",
          "name": "stdout",
          "text": [
            "[[0. 1. 0.]\n",
            " [0. 1. 0.]\n",
            " [0. 0. 1.]]\n"
          ]
        }
      ],
      "source": [
        "df['category']=df['category'].replace({-1:2})\n",
        "mp={0:\"Neutral\",1:\"Positve\",2:\"Negative\"}\n",
        "Y=df['category'].values\n",
        "Y_hot=to_categorical(Y)\n",
        "print(Y_hot[:3])"
      ]
    },
    {
      "cell_type": "markdown",
      "metadata": {
        "id": "4YBL3GXxmRtW"
      },
      "source": [
        "##Building the sentiment analysis model "
      ]
    },
    {
      "cell_type": "code",
      "execution_count": 24,
      "metadata": {
        "colab": {
          "base_uri": "https://localhost:8080/"
        },
        "id": "ag2d8P3ZmWeF",
        "outputId": "9a9b89b9-9915-4b9e-a663-f15c93af93ba"
      },
      "outputs": [
        {
          "output_type": "stream",
          "name": "stdout",
          "text": [
            "Model: \"sequential\"\n",
            "_________________________________________________________________\n",
            " Layer (type)                Output Shape              Param #   \n",
            "=================================================================\n",
            " embedding (Embedding)       (None, 175, 64)           3554752   \n",
            "                                                                 \n",
            " dropout (Dropout)           (None, 175, 64)           0         \n",
            "                                                                 \n",
            " bidirectional (Bidirectiona  (None, 175, 350)         336000    \n",
            " l)                                                              \n",
            "                                                                 \n",
            " dropout_1 (Dropout)         (None, 175, 350)          0         \n",
            "                                                                 \n",
            " bidirectional_1 (Bidirectio  (None, 175, 700)         1962800   \n",
            " nal)                                                            \n",
            "                                                                 \n",
            " dropout_2 (Dropout)         (None, 175, 700)          0         \n",
            "                                                                 \n",
            " bidirectional_2 (Bidirectio  (None, 1400)             7845600   \n",
            " nal)                                                            \n",
            "                                                                 \n",
            " dense (Dense)               (None, 3)                 4203      \n",
            "                                                                 \n",
            "=================================================================\n",
            "Total params: 13,703,355\n",
            "Trainable params: 13,703,355\n",
            "Non-trainable params: 0\n",
            "_________________________________________________________________\n",
            "None\n"
          ]
        }
      ],
      "source": [
        "model=Sequential()\n",
        "model.add(Embedding(dict_len,64,input_length=175))\n",
        "model.add(Dropout(0.3))\n",
        "model.add(Bidirectional(LSTM(175,return_sequences=True)))\n",
        "model.add(Dropout(0.3))\n",
        "model.add(Bidirectional(LSTM(350,return_sequences=True)))\n",
        "model.add(Dropout(0.3))\n",
        "model.add(Bidirectional(LSTM(700)))\n",
        "model.add(Dense(3,activation='softmax'))\n",
        "print(model.summary())"
      ]
    },
    {
      "cell_type": "code",
      "execution_count": 25,
      "metadata": {
        "id": "sRRhYt9UmgkG"
      },
      "outputs": [],
      "source": [
        "model.compile(optimizer='adam',metrics=['accuracy'],loss='categorical_crossentropy')"
      ]
    },
    {
      "cell_type": "code",
      "execution_count": 26,
      "metadata": {
        "colab": {
          "base_uri": "https://localhost:8080/"
        },
        "id": "lLfq5jkimjIm",
        "outputId": "59a2056b-d3a5-4752-d647-a94c69cafad6"
      },
      "outputs": [
        {
          "output_type": "stream",
          "name": "stdout",
          "text": [
            "Epoch 1/5\n",
            "932/932 [==============================] - 186s 186ms/step - loss: 0.6219 - accuracy: 0.7416 - val_loss: 0.3535 - val_accuracy: 0.8816\n",
            "Epoch 2/5\n",
            "932/932 [==============================] - 173s 186ms/step - loss: 0.2684 - accuracy: 0.9073 - val_loss: 0.2258 - val_accuracy: 0.9313\n",
            "Epoch 3/5\n",
            "932/932 [==============================] - 173s 185ms/step - loss: 0.1527 - accuracy: 0.9510 - val_loss: 0.2700 - val_accuracy: 0.9134\n",
            "Epoch 4/5\n",
            "932/932 [==============================] - 173s 185ms/step - loss: 0.1032 - accuracy: 0.9692 - val_loss: 0.2838 - val_accuracy: 0.9207\n",
            "Epoch 5/5\n",
            "932/932 [==============================] - 173s 185ms/step - loss: 0.0754 - accuracy: 0.9778 - val_loss: 0.3172 - val_accuracy: 0.9191\n"
          ]
        }
      ],
      "source": [
        "hist=model.fit(X_train_padded,Y_hot,epochs=5,validation_split=0.2)"
      ]
    },
    {
      "cell_type": "code",
      "execution_count": 27,
      "metadata": {
        "colab": {
          "base_uri": "https://localhost:8080/",
          "height": 265
        },
        "id": "shZbQXI9mlQp",
        "outputId": "60eada5b-ffcf-4282-bd9c-24ddcafa9ad4"
      },
      "outputs": [
        {
          "output_type": "display_data",
          "data": {
            "text/plain": [
              "<Figure size 432x288 with 1 Axes>"
            ],
            "image/png": "[encoded data removed]"
          },
          "metadata": {
            "needs_background": "light"
          }
        }
      ],
      "source": [
        "plt.plot(hist.history['accuracy'],c='b',label='Training')\n",
        "plt.plot(hist.history['val_accuracy'],c='r',label='Validation')\n",
        "plt.legend(loc='lower right')\n",
        "plt.show()"
      ]
    },
    {
      "cell_type": "code",
      "execution_count": 28,
      "metadata": {
        "colab": {
          "base_uri": "https://localhost:8080/",
          "height": 265
        },
        "id": "vfvLBE0Omnxz",
        "outputId": "c23f0f43-57af-4ba1-cd63-ac6b6840fd94"
      },
      "outputs": [
        {
          "output_type": "display_data",
          "data": {
            "text/plain": [
              "<Figure size 432x288 with 1 Axes>"
            ],
            "image/png": "[encoded data removed]"
          },
          "metadata": {
            "needs_background": "light"
          }
        }
      ],
      "source": [
        "plt.plot(hist.history['loss'],c='b',label='Training')\n",
        "plt.plot(hist.history['val_loss'],c='r',label='Validation')\n",
        "plt.legend(loc='upper right')\n",
        "plt.show()"
      ]
    },
    {
      "cell_type": "markdown",
      "metadata": {
        "id": "ghOM60gcmqHw"
      },
      "source": [
        "##Checking/predicting data"
      ]
    },
    {
      "cell_type": "code",
      "execution_count": 29,
      "metadata": {
        "id": "Tx3BUoeXpZkX"
      },
      "outputs": [],
      "source": [
        "def predict(s):\n",
        "    X_tes=[]\n",
        "    X_tes.append(s)\n",
        "    X_test=tokenizer.texts_to_sequences(X_tes)\n",
        "    X_test_padded=pad_sequences(X_test,maxlen=175,padding='post',truncating='post')\n",
        "    predictions = int(np.argmax(model.predict(X_test_padded),axis=1))\n",
        "    print(\"The Predicted Sentiment is\",mp[predictions])"
      ]
    },
    {
      "cell_type": "code",
      "source": [
        "pos=\"Today's weather is pretty good, it is perfect for a picnic\"\n",
        "predict(pos)"
      ],
      "metadata": {
        "colab": {
          "base_uri": "https://localhost:8080/"
        },
        "id": "nwp3huGcw2VI",
        "outputId": "2115d991-25d6-4625-ff50-a31cf81925ce"
      },
      "execution_count": 36,
      "outputs": [
        {
          "output_type": "stream",
          "name": "stdout",
          "text": [
            "The Predicted Sentiment is Positve\n"
          ]
        }
      ]
    },
    {
      "cell_type": "code",
      "source": [
        "neg=\"You mistake you have made will lead to worse and bigger mistakes\"\n",
        "predict(neg)"
      ],
      "metadata": {
        "colab": {
          "base_uri": "https://localhost:8080/"
        },
        "id": "DX1x2ECgw5hb",
        "outputId": "02f7cdb4-c458-49ba-c970-d61f65cc7917"
      },
      "execution_count": 35,
      "outputs": [
        {
          "output_type": "stream",
          "name": "stdout",
          "text": [
            "The Predicted Sentiment is Negative\n"
          ]
        }
      ]
    },
    {
      "cell_type": "code",
      "source": [
        "Neutral=\"I am yet to decide my course\"\n",
        "predict(Neutral)"
      ],
      "metadata": {
        "colab": {
          "base_uri": "https://localhost:8080/"
        },
        "id": "ficOBn6txJfW",
        "outputId": "fad2ce92-4eba-4a72-a9d7-92c04a157427"
      },
      "execution_count": 34,
      "outputs": [
        {
          "output_type": "stream",
          "name": "stdout",
          "text": [
            "The Predicted Sentiment is Neutral\n"
          ]
        }
      ]
    },
    {
      "cell_type": "markdown",
      "source": [
        "##TEST IT YOURSELF!! "
      ],
      "metadata": {
        "id": "7ok4wx880s7z"
      }
    },
    {
      "cell_type": "code",
      "source": [
        "test=input(\"Enter a statement:\")\n",
        "predict(test)"
      ],
      "metadata": {
        "colab": {
          "base_uri": "https://localhost:8080/"
        },
        "id": "XwitYGnt0wfS",
        "outputId": "72ab6995-3107-44f4-f7ce-2a9f0c9cbee4"
      },
      "execution_count": 33,
      "outputs": [
        {
          "output_type": "stream",
          "name": "stdout",
          "text": [
            "Enter a statement:You are a very good person\n",
            "The Predicted Sentiment is Positve\n"
          ]
        }
      ]
    }
  ],
  "metadata": {
    "accelerator": "GPU",
    "colab": {
      "provenance": [],
      "authorship_tag": "ABX9TyNv1q3MJ67ZI9HSy0MtGnbS",
      "include_colab_link": true
    },
    "kernelspec": {
      "display_name": "Python 3",
      "name": "python3"
    },
    "language_info": {
      "name": "python"
    }
  },
  "nbformat": 4,
  "nbformat_minor": 0
}